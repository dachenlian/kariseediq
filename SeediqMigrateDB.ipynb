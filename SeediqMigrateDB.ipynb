{
 "cells": [
  {
   "cell_type": "code",
   "execution_count": 1,
   "metadata": {},
   "outputs": [],
   "source": [
    "import pandas as pd"
   ]
  },
  {
   "cell_type": "code",
   "execution_count": 34,
   "metadata": {},
   "outputs": [],
   "source": [
    "item_cols = {\n",
    "    'itemname': 'item_name',\n",
    "    'wordroot': 'item_root',\n",
    "    'creator': 'user',\n",
    "    'time': 'created_date',\n",
    "    'isroot': 'is_root',\n",
    "    'meaning': 'meaning',\n",
    "    'meaningEn': 'meaning_en',\n",
    "    'mainMeaningWordclass': 'main_meaning_word_class',\n",
    "    'wordclass': 'word_class',\n",
    "    'culture': 'cultural_notes', \n",
    "    'focus': 'focus',\n",
    "    'idom': 'phrase',\n",
    "    'idomEn': 'phrase_en',\n",
    "    'idomCh' : 'phrase_ch',\n",
    "    'indexPrefix': 'char_strokes_first',\n",
    "    'cindex': 'char_strokes_all',\n",
    "    'occurrence': 'frequency',\n",
    "    'remark': 'grammar_notes',\n",
    "    'sentence': 'sentence',\n",
    "    'sentenceCh': 'sentence_ch',\n",
    "    'sentenceEn': 'sentence_en',\n",
    "    'source': 'source',\n",
    "    'tagging': 'tag',\n",
    "    'toda': 'toda',\n",
    "    'todar': 'toda_root',\n",
    "    'truku': 'truku',\n",
    "    'trukur': 'truku_root',\n",
    "    'variant': 'variant'\n",
    "}\n",
    "\n",
    "meaning_cols = {\n",
    "    'itemname': 'item_name',\n",
    "    'meaning': 'meaning',\n",
    "    'meaningEn': 'meaning_en',\n",
    "    'sentence': 'sentence',\n",
    "    'sentenceCh': 'sentence_ch',\n",
    "    'sentenceEn': 'sentence_en',\n",
    "    'wordclass': 'word_class',\n",
    "}\n",
    "\n",
    "phrase_cols = {\n",
    "    'itemname': 'item_name',\n",
    "    'idom': 'phrase',\n",
    "    'idomCh': 'phrase_ch',\n",
    "    'idomEn': 'phrase_en',\n",
    "}"
   ]
  },
  {
   "cell_type": "code",
   "execution_count": 38,
   "metadata": {},
   "outputs": [],
   "source": [
    "items = pd.read_csv('item_utf8.csv', usecols=item_cols.keys())\n",
    "items.rename(mapper=item_cols, axis='columns', inplace=True)\n",
    "items.to_csv('seediq_items_updated.csv', index=False)"
   ]
  },
  {
   "cell_type": "code",
   "execution_count": 37,
   "metadata": {},
   "outputs": [],
   "source": [
    "extra_meaning = pd.read_csv('extra_meaning_utf8.csv', usecols=meaning_cols.keys())\n",
    "extra_meaning.rename(mapper=meaning_cols, axis='columns', inplace=True)\n",
    "extra_meaning.to_csv('seediq_extra_meaning_updated.csv', index=False)"
   ]
  },
  {
   "cell_type": "code",
   "execution_count": 36,
   "metadata": {},
   "outputs": [],
   "source": [
    "extra_phrase = pd.read_csv('extra_idom_utf8.csv', usecols=phrase_cols.keys())\n",
    "extra_phrase.rename(mapper=phrase_cols, axis='columns', inplace=True)\n",
    "extra_phrase.to_csv('seediq_extra_phrases.csv', index=False)"
   ]
  },
  {
   "cell_type": "code",
   "execution_count": null,
   "metadata": {},
   "outputs": [],
   "source": []
  }
 ],
 "metadata": {
  "kernelspec": {
   "display_name": "test",
   "language": "python",
   "name": "test"
  },
  "language_info": {
   "codemirror_mode": {
    "name": "ipython",
    "version": 3
   },
   "file_extension": ".py",
   "mimetype": "text/x-python",
   "name": "python",
   "nbconvert_exporter": "python",
   "pygments_lexer": "ipython3",
   "version": "3.7.0"
  }
 },
 "nbformat": 4,
 "nbformat_minor": 2
}
