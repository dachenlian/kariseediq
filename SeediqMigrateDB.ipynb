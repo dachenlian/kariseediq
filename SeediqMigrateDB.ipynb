{
 "cells": [
  {
   "cell_type": "code",
   "execution_count": 1,
   "metadata": {},
   "outputs": [],
   "source": [
    "import pandas as pd"
   ]
  },
  {
   "cell_type": "code",
   "execution_count": 12,
   "metadata": {},
   "outputs": [],
   "source": [
    "item_cols = {\n",
    "    'itemname': 'item_name',\n",
    "    'wordroot': 'item_root',\n",
    "    'creator': 'user',\n",
    "    'time': 'created_date',\n",
    "    'isroot': 'is_root',\n",
    "    'meaning': 'meaning',\n",
    "    'meaningEn': 'meaning_en',\n",
    "    'mainMeaningWordclass': 'main_meaning_word_class',\n",
    "    'wordclass': 'word_class',\n",
    "    'culture': 'cultural_notes', \n",
    "    'focus': 'focus',\n",
    "    'idom': 'phrase',\n",
    "    'idomEn': 'phrase_en',\n",
    "    'idomCh' : 'phrase_ch',\n",
    "    'indexPrefix': 'char_strokes_first',\n",
    "    'cindex': 'char_strokes_all',\n",
    "    'occurrence': 'frequency',\n",
    "    'remark': 'grammar_notes',\n",
    "    'sentence': 'sentence',\n",
    "    'sentenceCh': 'sentence_ch',\n",
    "    'sentenceEn': 'sentence_en',\n",
    "    'source': 'source',\n",
    "    'tagging': 'tag',\n",
    "    'toda': 'toda',\n",
    "    'todar': 'toda_root',\n",
    "    'truku': 'truku',\n",
    "    'trukur': 'truku_root',\n",
    "    'variant': 'variant'\n",
    "}\n",
    "\n",
    "meaning_cols = {\n",
    "    'itemname': 'item_name',\n",
    "    'meaningno': 'meaning_no',\n",
    "    'meaning': 'meaning',\n",
    "    'meaningEn': 'meaning_en',\n",
    "    'sentence': 'sentence',\n",
    "    'sentenceCh': 'sentence_ch',\n",
    "    'sentenceEn': 'sentence_en',\n",
    "    'wordclass': 'word_class',\n",
    "}\n",
    "\n",
    "phrase_cols = {\n",
    "    'itemname': 'item_name',\n",
    "    'idom': 'phrase',\n",
    "    'idomCh': 'phrase_ch',\n",
    "    'idomEn': 'phrase_en',\n",
    "}"
   ]
  },
  {
   "cell_type": "code",
   "execution_count": 13,
   "metadata": {},
   "outputs": [],
   "source": [
    "items = pd.read_csv('item_utf8.csv', usecols=item_cols.keys())\n",
    "items.rename(mapper=item_cols, axis='columns', inplace=True)\n",
    "items.drop_duplicates(inplace=True)\n",
    "items.to_csv('seediq_items_updated.csv', index=False)"
   ]
  },
  {
   "cell_type": "code",
   "execution_count": 37,
   "metadata": {},
   "outputs": [],
   "source": [
    "extra_meaning = pd.read_csv('extra_meaning_utf8.csv', usecols=meaning_cols.keys())\n",
    "extra_meaning.rename(mapper=meaning_cols, axis='columns', inplace=True)\n",
    "extra_meaning.to_csv('seediq_extra_meaning_updated.csv', index=False)"
   ]
  },
  {
   "cell_type": "code",
   "execution_count": 36,
   "metadata": {},
   "outputs": [],
   "source": [
    "extra_phrase = pd.read_csv('extra_idom_utf8.csv', usecols=phrase_cols.keys())\n",
    "extra_phrase.rename(mapper=phrase_cols, axis='columns', inplace=True)\n",
    "extra_phrase.to_csv('seediq_extra_phrases.csv', index=False)"
   ]
  },
  {
   "cell_type": "code",
   "execution_count": 14,
   "metadata": {},
   "outputs": [],
   "source": [
    "df = pd.read_csv('seediq_items_updated.csv')"
   ]
  },
  {
   "cell_type": "code",
   "execution_count": 15,
   "metadata": {},
   "outputs": [
    {
     "data": {
      "text/html": [
       "<div>\n",
       "<style scoped>\n",
       "    .dataframe tbody tr th:only-of-type {\n",
       "        vertical-align: middle;\n",
       "    }\n",
       "\n",
       "    .dataframe tbody tr th {\n",
       "        vertical-align: top;\n",
       "    }\n",
       "\n",
       "    .dataframe thead th {\n",
       "        text-align: right;\n",
       "    }\n",
       "</style>\n",
       "<table border=\"1\" class=\"dataframe\">\n",
       "  <thead>\n",
       "    <tr style=\"text-align: right;\">\n",
       "      <th></th>\n",
       "      <th>item_name</th>\n",
       "      <th>toda</th>\n",
       "      <th>truku</th>\n",
       "      <th>is_root</th>\n",
       "      <th>item_root</th>\n",
       "      <th>focus</th>\n",
       "      <th>toda_root</th>\n",
       "      <th>truku_root</th>\n",
       "      <th>word_class</th>\n",
       "      <th>main_meaning_word_class</th>\n",
       "      <th>...</th>\n",
       "      <th>source</th>\n",
       "      <th>grammar_notes</th>\n",
       "      <th>cultural_notes</th>\n",
       "      <th>variant</th>\n",
       "      <th>user</th>\n",
       "      <th>created_date</th>\n",
       "      <th>char_strokes_all</th>\n",
       "      <th>char_strokes_first</th>\n",
       "      <th>tag</th>\n",
       "      <th>frequency</th>\n",
       "    </tr>\n",
       "  </thead>\n",
       "  <tbody>\n",
       "  </tbody>\n",
       "</table>\n",
       "<p>0 rows × 28 columns</p>\n",
       "</div>"
      ],
      "text/plain": [
       "Empty DataFrame\n",
       "Columns: [item_name, toda, truku, is_root, item_root, focus, toda_root, truku_root, word_class, main_meaning_word_class, meaning, meaning_en, sentence, sentence_ch, sentence_en, phrase, phrase_ch, phrase_en, source, grammar_notes, cultural_notes, variant, user, created_date, char_strokes_all, char_strokes_first, tag, frequency]\n",
       "Index: []\n",
       "\n",
       "[0 rows x 28 columns]"
      ]
     },
     "execution_count": 15,
     "metadata": {},
     "output_type": "execute_result"
    }
   ],
   "source": [
    "df[df.duplicated(['item_name'])]"
   ]
  },
  {
   "cell_type": "code",
   "execution_count": 20,
   "metadata": {},
   "outputs": [
    {
     "data": {
      "text/html": [
       "<div>\n",
       "<style scoped>\n",
       "    .dataframe tbody tr th:only-of-type {\n",
       "        vertical-align: middle;\n",
       "    }\n",
       "\n",
       "    .dataframe tbody tr th {\n",
       "        vertical-align: top;\n",
       "    }\n",
       "\n",
       "    .dataframe thead th {\n",
       "        text-align: right;\n",
       "    }\n",
       "</style>\n",
       "<table border=\"1\" class=\"dataframe\">\n",
       "  <thead>\n",
       "    <tr style=\"text-align: right;\">\n",
       "      <th></th>\n",
       "      <th>item_name</th>\n",
       "      <th>toda</th>\n",
       "      <th>truku</th>\n",
       "      <th>is_root</th>\n",
       "      <th>item_root</th>\n",
       "      <th>focus</th>\n",
       "      <th>toda_root</th>\n",
       "      <th>truku_root</th>\n",
       "      <th>word_class</th>\n",
       "      <th>main_meaning_word_class</th>\n",
       "      <th>...</th>\n",
       "      <th>source</th>\n",
       "      <th>grammar_notes</th>\n",
       "      <th>cultural_notes</th>\n",
       "      <th>variant</th>\n",
       "      <th>user</th>\n",
       "      <th>created_date</th>\n",
       "      <th>char_strokes_all</th>\n",
       "      <th>char_strokes_first</th>\n",
       "      <th>tag</th>\n",
       "      <th>frequency</th>\n",
       "    </tr>\n",
       "  </thead>\n",
       "  <tbody>\n",
       "    <tr>\n",
       "      <th>887</th>\n",
       "      <td>mkkesa</td>\n",
       "      <td>mkkesa</td>\n",
       "      <td>mkksa</td>\n",
       "      <td>no</td>\n",
       "      <td>kkesa</td>\n",
       "      <td>主事焦點</td>\n",
       "      <td>NaN</td>\n",
       "      <td>NaN</td>\n",
       "      <td>NaN</td>\n",
       "      <td>NaN</td>\n",
       "      <td>...</td>\n",
       "      <td>NaN</td>\n",
       "      <td>NaN</td>\n",
       "      <td>NaN</td>\n",
       "      <td>NaN</td>\n",
       "      <td>iwanperin</td>\n",
       "      <td>2010-02-18</td>\n",
       "      <td>07走13路</td>\n",
       "      <td>七劃/走</td>\n",
       "      <td>NaN</td>\n",
       "      <td>29</td>\n",
       "    </tr>\n",
       "  </tbody>\n",
       "</table>\n",
       "<p>1 rows × 28 columns</p>\n",
       "</div>"
      ],
      "text/plain": [
       "    item_name    toda  truku is_root item_root focus  toda_root  truku_root  \\\n",
       "887    mkkesa  mkkesa  mkksa      no     kkesa  主事焦點        NaN         NaN   \n",
       "\n",
       "    word_class main_meaning_word_class  ... source grammar_notes  \\\n",
       "887        NaN                     NaN  ...    NaN           NaN   \n",
       "\n",
       "    cultural_notes variant       user created_date char_strokes_all  \\\n",
       "887            NaN     NaN  iwanperin   2010-02-18           07走13路   \n",
       "\n",
       "    char_strokes_first  tag frequency  \n",
       "887               七劃/走  NaN        29  \n",
       "\n",
       "[1 rows x 28 columns]"
      ]
     },
     "execution_count": 20,
     "metadata": {},
     "output_type": "execute_result"
    }
   ],
   "source": [
    "df[df['item_name'].str.contains('mkkesa')]"
   ]
  },
  {
   "cell_type": "code",
   "execution_count": 18,
   "metadata": {},
   "outputs": [
    {
     "data": {
      "text/plain": [
       "item_name                                                            hengak \n",
       "toda                                                              tama baraq\n",
       "truku                                                             tama baraq\n",
       "is_root                                                                  yes\n",
       "item_root                                                            hengak \n",
       "focus                                                                    NaN\n",
       "toda_root                                                                NaN\n",
       "truku_root                                                               NaN\n",
       "word_class                                                                名詞\n",
       "main_meaning_word_class                                                   名詞\n",
       "meaning                                                                   心臟\n",
       "meaning_en                                                             heart\n",
       "sentence                   Kanggohu  ga mesa hengac ka maasuw dara hei se...\n",
       "sentence_ch                                            那位護士說：「心臟是擠送人類身體的血液。」\n",
       "sentence_en                That nurse said: \"The heart is responsible for...\n",
       "phrase                                                                   NaN\n",
       "phrase_ch                                                                NaN\n",
       "phrase_en                                                                NaN\n",
       "source                                                                   NaN\n",
       "grammar_notes                                                            NaN\n",
       "cultural_notes                                                           NaN\n",
       "variant                                                                  NaN\n",
       "user                                                                uminsapu\n",
       "created_date                                                      2011-04-05\n",
       "char_strokes_all                                                      04心22臟\n",
       "char_strokes_first                                                      四劃/心\n",
       "tag                                                                      NaN\n",
       "frequency                                                                  2\n",
       "Name: 4069, dtype: object"
      ]
     },
     "execution_count": 18,
     "metadata": {},
     "output_type": "execute_result"
    }
   ],
   "source": [
    "df.iloc[4069]"
   ]
  },
  {
   "cell_type": "code",
   "execution_count": 19,
   "metadata": {},
   "outputs": [
    {
     "data": {
      "text/plain": [
       "item_name                           hengak\n",
       "toda                                   NaN\n",
       "truku                                  NaN\n",
       "is_root                                yes\n",
       "item_root                           hengak\n",
       "focus                                  NaN\n",
       "toda_root                              NaN\n",
       "truku_root                             NaN\n",
       "word_class                              名詞\n",
       "main_meaning_word_class                 名詞\n",
       "meaning                    (例句)氣息；個人的聲音、聲頻\n",
       "meaning_en                             NaN\n",
       "sentence                               NaN\n",
       "sentence_ch                            NaN\n",
       "sentence_en                            NaN\n",
       "phrase                                 NaN\n",
       "phrase_ch                              NaN\n",
       "phrase_en                              NaN\n",
       "source                                 NaN\n",
       "grammar_notes                          NaN\n",
       "cultural_notes                         NaN\n",
       "variant                                NaN\n",
       "user                             iwanperin\n",
       "created_date                    2010-04-30\n",
       "char_strokes_all           08例05句0)10氣10息0\n",
       "char_strokes_first                    八劃/例\n",
       "tag                                    NaN\n",
       "frequency                                7\n",
       "Name: 1558, dtype: object"
      ]
     },
     "execution_count": 19,
     "metadata": {},
     "output_type": "execute_result"
    }
   ],
   "source": [
    "df.iloc[1558]"
   ]
  },
  {
   "cell_type": "code",
   "execution_count": null,
   "metadata": {},
   "outputs": [],
   "source": []
  }
 ],
 "metadata": {
  "kernelspec": {
   "display_name": "test",
   "language": "python",
   "name": "test"
  },
  "language_info": {
   "codemirror_mode": {
    "name": "ipython",
    "version": 3
   },
   "file_extension": ".py",
   "mimetype": "text/x-python",
   "name": "python",
   "nbconvert_exporter": "python",
   "pygments_lexer": "ipython3",
   "version": "3.7.0"
  }
 },
 "nbformat": 4,
 "nbformat_minor": 2
}
