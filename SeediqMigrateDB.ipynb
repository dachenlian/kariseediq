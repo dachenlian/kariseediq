{
 "cells": [
  {
   "cell_type": "code",
   "execution_count": null,
   "metadata": {},
   "outputs": [],
   "source": [
    "cols = {\n",
    "    'itemname': 'item_name',\n",
    "    'wordroot': 'item_root',\n",
    "    'creator': 'user',\n",
    "    'time': 'created_date',\n",
    "    'isroot': 'is_root',\n",
    "    'meaning': 'meaning',\n",
    "    'meaningEn': 'meaning_en',\n",
    "    'mainMeaningWordclass': 'main_meaning_word_class',\n",
    "    'wordclass': 'word_class',\n",
    "    'culture': 'cultural_notes', \n",
    "    'focus': 'focus',\n",
    "    'idom': 'phrase',\n",
    "    'idomEn': 'phrase_en',\n",
    "    'idomCh', : 'phrase_ch'\n",
    "    'indexPrefix': 'char_strokes_first',\n",
    "    'cindex': 'char_strokes_all',\n",
    "    'occurrence': 'frequency',\n",
    "    'remark': 'grammar_notes',\n",
    "    'sentence': 'sentence',\n",
    "    'sentenceCh': 'sentence_ch',\n",
    "    'sentenceEn': 'sentence_en',\n",
    "    'source': 'source',\n",
    "    'tagging': 'tag',\n",
    "    'toda': 'toda',\n",
    "    'todar': 'toda_root',\n",
    "    'truku': 'truku',\n",
    "    'trukur': 'truku_root',\n",
    "    'variant': 'variant'\n",
    "}"
   ]
  }
 ],
 "metadata": {
  "kernelspec": {
   "display_name": "test",
   "language": "python",
   "name": "test"
  },
  "language_info": {
   "codemirror_mode": {
    "name": "ipython",
    "version": 3
   },
   "file_extension": ".py",
   "mimetype": "text/x-python",
   "name": "python",
   "nbconvert_exporter": "python",
   "pygments_lexer": "ipython3",
   "version": "3.7.0"
  }
 },
 "nbformat": 4,
 "nbformat_minor": 2
}
